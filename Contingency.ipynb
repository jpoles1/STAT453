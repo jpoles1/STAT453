{
 "cells": [
  {
   "cell_type": "code",
   "execution_count": 1,
   "metadata": {
    "collapsed": false
   },
   "outputs": [],
   "source": [
    "from IPython.display import display\n",
    "import numpy as np\n",
    "import pandas as pd\n",
    "from re import search"
   ]
  },
  {
   "cell_type": "code",
   "execution_count": 85,
   "metadata": {
    "collapsed": false
   },
   "outputs": [],
   "source": [
    "class ContTable:\n",
    "    def __init__(self, de, nde, dne, ndne, verbose=1, xlabs=[\"D\", \"~D\"], ylabs=[\"E\", \"~E\"]):\n",
    "        assert de >= 0 and nde >= 0 and dne >= 0 and ndne >= 0, \"All values in the contingency table must be positive.\"\n",
    "        self.desc = [\n",
    "            \"Diseased and exposed\", \n",
    "            \"Not disease but exposed\", \n",
    "            \"Diseased but not exposed\", \n",
    "            \"Not diseased and not exposed\"\n",
    "        ]\n",
    "        self.xlabels = xlabs\n",
    "        self.ylabels = ylabs\n",
    "        self.de = de; #Diseased and exposed = a\n",
    "        self.nde = nde; #Not disease but exposed = b\n",
    "        self.dne = dne; #Diseased but not exposed = c\n",
    "        self.ndne = ndne; #Not diseased and not exposed = d\n",
    "        self.num_d = de + dne;\n",
    "        self.num_nd = nde + ndne;\n",
    "        self.num_e = de + nde;\n",
    "        self.num_ne = dne + ndne;\n",
    "        self.num_tot = de+nde+dne+ndne\n",
    "        self.cont_matrix = np.matrix([[self.de,self.nde],[self.dne,self.ndne]])\n",
    "        self.cont_table = pd.DataFrame(self.cont_matrix)\n",
    "        self.cont_table.columns = self.ylabels\n",
    "        self.cont_table.index = self.xlabels\n",
    "        if verbose:\n",
    "            self.display()\n",
    "        self.relative_risk(verbose)\n",
    "        self.odds_ratio(verbose)\n",
    "        self.excess_risk(verbose)\n",
    "        self.attributable_risk(verbose)\n",
    "    def relative_risk(self, verbose=1):\n",
    "        #Basis for multiplicative risk\n",
    "        #RR = P(D|E)/P(D|~E)\n",
    "        num = self.de/self.num_e\n",
    "        denom = self.dne/self.num_ne\n",
    "        self.RR = num/denom\n",
    "        if verbose:\n",
    "            print(\"Relative Risk (RR):\", self.RR)\n",
    "        if verbose > 1:\n",
    "            if self.RR == 1:\n",
    "                print(\"Relative Risk (RR) indicates independence between D & E.\")\n",
    "            elif self.RR > 1:\n",
    "                print(\"Relative Risk (RR) indicates a positive relationship between D & E.\")\n",
    "            else:\n",
    "                print(\"Relative Risk (RR) indicates a negative relationship between D & E.\")\n",
    "            print(\"\")\n",
    "        assert self.RR >= 0, \"Relative risk must be non-negative!\"\n",
    "        #Restriction on range (below) becomes problematic with common disease outcomes\n",
    "        assert self.RR <= 1/denom, \"Relative Risk is always <= 1/P(D|~E)\"\n",
    "        return self.RR\n",
    "    def odds_ratio(self, verbose=1):\n",
    "        #OR = [P(D|E)/P(~D|E)]/[P(D|~E)/P(~D|~E)] = (ad)/(bc)\n",
    "        self.OR = (self.de*self.ndne)/(self.nde*self.dne);\n",
    "        if verbose:\n",
    "            print(\"Odds Ratio (OR):\", self.OR)\n",
    "        if verbose > 1:\n",
    "            if self.OR == 1:\n",
    "                print(\"Odds Ratio (OR) indicates independence between D & E.\")\n",
    "            elif self.OR > 1:\n",
    "                print(\"Odds Ratio (OR) indicates a positive relationship between D & E.\")\n",
    "            else:\n",
    "                print(\"Odds Ratio (OR) indicates a negative relationship between D & E.\")\n",
    "            print(\"\")\n",
    "        assert self.OR >= 0, \"Odds Ratio must be non-negative!\"\n",
    "        #Odds Ratio has no upper bound, unlike Relative Risk\n",
    "        return self.OR\n",
    "    def excess_risk(self, verbose=1):\n",
    "        #Basis for additive risk\n",
    "        #ER = P(D|E) - P(D|~E) \n",
    "        first = self.de/self.num_e\n",
    "        second = self.dne/self.num_ne\n",
    "        self.ER = first-second\n",
    "        if verbose:\n",
    "            print(\"Excess Risk (ER):\", self.ER)\n",
    "        if verbose > 1:\n",
    "            if self.ER == 0:\n",
    "                print(\"Excess Risk (ER) indicates independence between D & E.\")\n",
    "            elif self.ER > 0:\n",
    "                print(\"Excess Risk (ER) indicates a positive relationship between D & E.\")\n",
    "            else:\n",
    "                print(\"Excess Risk (ER) indicates a negative relationship between D & E.\")\n",
    "            print(\"\")\n",
    "        assert self.ER >= -1 and self.ER <= 1, \"Excess Risk (ER) is bounded by [-1, 1].\" \n",
    "        return self.ER\n",
    "    def attributable_risk(self, verbose=1):\n",
    "        #AR = [P(D) - P(D|~E)]/P(D)\n",
    "        pd = (self.de + self.dne)/self.num_tot\n",
    "        pdne = self.dne/self.num_ne\n",
    "        self.AR = (pd - pdne)/pd\n",
    "        if verbose:\n",
    "            print(\"Attributable Risk (AR):\", self.AR)\n",
    "        if verbose > 1:\n",
    "            if self.AR == 0:\n",
    "                print(\"Attributable Risk (AR) indicates independence between D & E.\")\n",
    "            elif self.AR > 0:\n",
    "                print(\"Attributable Risk (AR) indicates a positive relationship between D & E.\")\n",
    "            else:\n",
    "                print(\"Attributable Risk (AR) indicates a negative relationship between D & E.\")\n",
    "            print(\"\")\n",
    "        return self.AR\n",
    "    def display(self):\n",
    "        print(\"2x2 Contingency Table:\")\n",
    "        display(self.cont_table)\n",
    "    def get_prob(self, prob_string):\n",
    "        valid = search(\"P\\((.*)\\)\", prob_string)\n",
    "        if valid:\n",
    "            cond_prob = search(\"([\\~a-zA-Z]*)\\|([\\~a-zA-Z]*)\", valid.group(1))\n",
    "            if cond_prob:\n",
    "                a = cond_prob.group(1)\n",
    "                b = cond_prob.group(2)\n",
    "                if a in self.xlabels:\n",
    "                    return marital_status.cont_table.loc[a, b]/marital_status.cont_table.loc[:, b].sum()\n",
    "                else:\n",
    "                    return marital_status.cont_table.loc[b, a]/marital_status.cont_table.loc[:, a].sum()\n",
    "            else:\n",
    "                prob_chars = valid.group(1)\n",
    "                if prob_chars in self.xlabels:\n",
    "                    return marital_status.cont_table.loc[prob_chars, :].sum()/self.num_tot\n",
    "                else:\n",
    "                    return marital_status.cont_table.loc[:, prob_chars].sum()/self.num_tot"
   ]
  },
  {
   "cell_type": "code",
   "execution_count": 86,
   "metadata": {
    "collapsed": false
   },
   "outputs": [
    {
     "name": "stdout",
     "output_type": "stream",
     "text": [
      "2x2 Contingency Table:\n"
     ]
    },
    {
     "data": {
      "text/html": [
       "<div>\n",
       "<table border=\"1\" class=\"dataframe\">\n",
       "  <thead>\n",
       "    <tr style=\"text-align: right;\">\n",
       "      <th></th>\n",
       "      <th>E</th>\n",
       "      <th>~E</th>\n",
       "    </tr>\n",
       "  </thead>\n",
       "  <tbody>\n",
       "    <tr>\n",
       "      <th>D</th>\n",
       "      <td>16712</td>\n",
       "      <td>1197142</td>\n",
       "    </tr>\n",
       "    <tr>\n",
       "      <th>~D</th>\n",
       "      <td>18784</td>\n",
       "      <td>2878421</td>\n",
       "    </tr>\n",
       "  </tbody>\n",
       "</table>\n",
       "</div>"
      ],
      "text/plain": [
       "        E       ~E\n",
       "D   16712  1197142\n",
       "~D  18784  2878421"
      ]
     },
     "metadata": {},
     "output_type": "display_data"
    },
    {
     "name": "stdout",
     "output_type": "stream",
     "text": [
      "Relative Risk (RR): 2.1235041772801155\n",
      "Odds Ratio (OR): 2.139188199568787\n",
      "Excess Risk (ER): 0.007284228235844439\n",
      "Attributable Risk (AR): 0.2490981964444646\n"
     ]
    }
   ],
   "source": [
    "marital_status = ContTable(16712, 1197142, 18784, 2878421, 1)"
   ]
  },
  {
   "cell_type": "code",
   "execution_count": 87,
   "metadata": {
    "collapsed": false
   },
   "outputs": [
    {
     "data": {
      "text/plain": [
       "1.0"
      ]
     },
     "execution_count": 87,
     "metadata": {},
     "output_type": "execute_result"
    }
   ],
   "source": [
    "marital_status.get_prob(\"P(E)\") + marital_status.get_prob(\"P(~E)\")\n",
    "marital_status.get_prob(\"P(D|E)\") + marital_status.get_prob(\"P(~D|E)\") "
   ]
  },
  {
   "cell_type": "code",
   "execution_count": 88,
   "metadata": {
    "collapsed": false
   },
   "outputs": [
    {
     "name": "stdout",
     "output_type": "stream",
     "text": [
      "2x2 Contingency Table:\n"
     ]
    },
    {
     "data": {
      "text/html": [
       "<div>\n",
       "<table border=\"1\" class=\"dataframe\">\n",
       "  <thead>\n",
       "    <tr style=\"text-align: right;\">\n",
       "      <th></th>\n",
       "      <th>E</th>\n",
       "      <th>~E</th>\n",
       "    </tr>\n",
       "  </thead>\n",
       "  <tbody>\n",
       "    <tr>\n",
       "      <th>D</th>\n",
       "      <td>21054</td>\n",
       "      <td>271269</td>\n",
       "    </tr>\n",
       "    <tr>\n",
       "      <th>~D</th>\n",
       "      <td>14442</td>\n",
       "      <td>3804294</td>\n",
       "    </tr>\n",
       "  </tbody>\n",
       "</table>\n",
       "</div>"
      ],
      "text/plain": [
       "        E       ~E\n",
       "D   21054   271269\n",
       "~D  14442  3804294"
      ]
     },
     "metadata": {},
     "output_type": "display_data"
    },
    {
     "name": "stdout",
     "output_type": "stream",
     "text": [
      "Relative Risk (RR): 19.044252295766743\n",
      "Odds Ratio (OR): 20.444720789531505\n",
      "Excess Risk (ER): 0.06824119071217893\n",
      "Attributable Risk (AR): 0.5619920439642855\n"
     ]
    }
   ],
   "source": [
    "birthweight = ContTable(21054, 271269, 14442, 3804294, 1)"
   ]
  },
  {
   "cell_type": "code",
   "execution_count": null,
   "metadata": {
    "collapsed": true
   },
   "outputs": [],
   "source": []
  },
  {
   "cell_type": "code",
   "execution_count": null,
   "metadata": {
    "collapsed": true
   },
   "outputs": [],
   "source": []
  }
 ],
 "metadata": {
  "kernelspec": {
   "display_name": "Python 3",
   "language": "python",
   "name": "python3"
  },
  "language_info": {
   "codemirror_mode": {
    "name": "ipython",
    "version": 3
   },
   "file_extension": ".py",
   "mimetype": "text/x-python",
   "name": "python",
   "nbconvert_exporter": "python",
   "pygments_lexer": "ipython3",
   "version": "3.4.3"
  }
 },
 "nbformat": 4,
 "nbformat_minor": 2
}
