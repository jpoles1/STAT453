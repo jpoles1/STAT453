{
 "cells": [
  {
   "cell_type": "code",
   "execution_count": 1,
   "metadata": {
    "collapsed": false
   },
   "outputs": [],
   "source": [
    "from IPython.display import display\n",
    "import numpy as np\n",
    "import pandas as pd\n",
    "from scipy.stats import chi2\n",
    "from re import search\n",
    "import contingency\n",
    "from contingency import ContTable\n",
    "from imp import reload\n",
    "_ = reload(contingency)"
   ]
  },
  {
   "cell_type": "code",
   "execution_count": 2,
   "metadata": {
    "collapsed": false
   },
   "outputs": [
    {
     "name": "stdout",
     "output_type": "stream",
     "text": [
      "2x2 Contingency Table:\n"
     ]
    },
    {
     "data": {
      "text/html": [
       "<div>\n",
       "<table border=\"1\" class=\"dataframe\">\n",
       "  <thead>\n",
       "    <tr style=\"text-align: right;\">\n",
       "      <th></th>\n",
       "      <th>E</th>\n",
       "      <th>~E</th>\n",
       "    </tr>\n",
       "  </thead>\n",
       "  <tbody>\n",
       "    <tr>\n",
       "      <th>D</th>\n",
       "      <td>16712</td>\n",
       "      <td>1197142</td>\n",
       "    </tr>\n",
       "    <tr>\n",
       "      <th>~D</th>\n",
       "      <td>18784</td>\n",
       "      <td>2878421</td>\n",
       "    </tr>\n",
       "  </tbody>\n",
       "</table>\n",
       "</div>"
      ],
      "text/plain": [
       "        E       ~E\n",
       "D   16712  1197142\n",
       "~D  18784  2878421"
      ]
     },
     "metadata": {},
     "output_type": "display_data"
    },
    {
     "name": "stdout",
     "output_type": "stream",
     "text": [
      "Relative Risk (RR): 2.1235041772801155\n",
      "=> Relative Risk (RR) indicates a positive relationship between D & E.\n",
      "\n",
      "Odds Ratio (OR): 2.139188199568787\n",
      "=> 95% CI using logOR: 0.760426\n",
      "=> => logOR Var: 0.00011425677546397759\n",
      "=> => Upper Bound: 2.0948378832479535\n",
      "=> => Lower Bound: 2.184477467096054\n",
      "=> Odds Ratio (OR) indicates a positive relationship between D & E.\n",
      "\n",
      "Excess Risk (ER): 0.007284228235844439\n",
      "=> Excess Risk (ER) indicates a positive relationship between D & E.\n",
      "\n",
      "Attributable Risk (AR): 0.2490981964444646\n",
      "=> Attributable Risk (AR) indicates a positive relationship between D & E.\n",
      "\n",
      "ChiSquared Independence Test (n=4111059)\n",
      "=> p-value = 1.0\n",
      "=> ChiSquared Test indicates independence between D & E.\n",
      "\n"
     ]
    }
   ],
   "source": [
    "marital_status = ContTable(16712, 1197142, 18784, 2878421, 2)"
   ]
  },
  {
   "cell_type": "code",
   "execution_count": 6,
   "metadata": {
    "collapsed": false
   },
   "outputs": [
    {
     "name": "stdout",
     "output_type": "stream",
     "text": [
      "1.0\n"
     ]
    },
    {
     "data": {
      "text/plain": [
       "1.0"
      ]
     },
     "execution_count": 6,
     "metadata": {},
     "output_type": "execute_result"
    }
   ],
   "source": [
    "print(marital_status.get_prob(\"P(E)\") + marital_status.get_prob(\"P(~E)\"))\n",
    "\n",
    "print(marital_status.get_prob(\"P(D|E)\") + marital_status.get_prob(\"P(~D|E)\"))"
   ]
  },
  {
   "cell_type": "code",
   "execution_count": 4,
   "metadata": {
    "collapsed": false
   },
   "outputs": [
    {
     "name": "stdout",
     "output_type": "stream",
     "text": [
      "2x2 Contingency Table:\n"
     ]
    },
    {
     "data": {
      "text/html": [
       "<div>\n",
       "<table border=\"1\" class=\"dataframe\">\n",
       "  <thead>\n",
       "    <tr style=\"text-align: right;\">\n",
       "      <th></th>\n",
       "      <th>E</th>\n",
       "      <th>~E</th>\n",
       "    </tr>\n",
       "  </thead>\n",
       "  <tbody>\n",
       "    <tr>\n",
       "      <th>D</th>\n",
       "      <td>21054</td>\n",
       "      <td>271269</td>\n",
       "    </tr>\n",
       "    <tr>\n",
       "      <th>~D</th>\n",
       "      <td>14442</td>\n",
       "      <td>3804294</td>\n",
       "    </tr>\n",
       "  </tbody>\n",
       "</table>\n",
       "</div>"
      ],
      "text/plain": [
       "        E       ~E\n",
       "D   21054   271269\n",
       "~D  14442  3804294"
      ]
     },
     "metadata": {},
     "output_type": "display_data"
    },
    {
     "name": "stdout",
     "output_type": "stream",
     "text": [
      "Relative Risk (RR): 19.044252295766743\n",
      "Odds Ratio (OR): 20.444720789531505\n",
      "=> 95% CI using logOR: 3.017725\n",
      "=> => logOR Var: 0.00012068863848115748\n",
      "=> => Upper Bound: 20.00921365194328\n",
      "=> => Lower Bound: 20.889706883673927\n",
      "Excess Risk (ER): 0.06824119071217893\n",
      "Attributable Risk (AR): 0.5619920439642855\n",
      "ChiSquared Independence Test (n=4111059)\n",
      "=> p-value = 1.0\n"
     ]
    }
   ],
   "source": [
    "birthweight = ContTable(21054, 271269, 14442, 3804294, 1)"
   ]
  },
  {
   "cell_type": "code",
   "execution_count": 5,
   "metadata": {
    "collapsed": false
   },
   "outputs": [
    {
     "name": "stdout",
     "output_type": "stream",
     "text": [
      "2x2 Contingency Table:\n"
     ]
    },
    {
     "data": {
      "text/html": [
       "<div>\n",
       "<table border=\"1\" class=\"dataframe\">\n",
       "  <thead>\n",
       "    <tr style=\"text-align: right;\">\n",
       "      <th></th>\n",
       "      <th>E</th>\n",
       "      <th>~E</th>\n",
       "    </tr>\n",
       "  </thead>\n",
       "  <tbody>\n",
       "    <tr>\n",
       "      <th>D</th>\n",
       "      <td>7</td>\n",
       "      <td>7</td>\n",
       "    </tr>\n",
       "    <tr>\n",
       "      <th>~D</th>\n",
       "      <td>52</td>\n",
       "      <td>134</td>\n",
       "    </tr>\n",
       "  </tbody>\n",
       "</table>\n",
       "</div>"
      ],
      "text/plain": [
       "     E   ~E\n",
       "D    7    7\n",
       "~D  52  134"
      ]
     },
     "metadata": {},
     "output_type": "display_data"
    },
    {
     "name": "stdout",
     "output_type": "stream",
     "text": [
      "Relative Risk (RR): 1.7884615384615385\n",
      "=> Relative Risk (RR) indicates a positive relationship between D & E.\n",
      "\n",
      "Odds Ratio (OR): 2.576923076923077\n",
      "=> 95% CI using logOR: 0.946596\n",
      "=> => logOR Var: 0.3124077415122191\n",
      "=> => Upper Bound: 0.8616592835793705\n",
      "=> => Lower Bound: 7.706680205189265\n",
      "=> Odds Ratio (OR) indicates a positive relationship between D & E.\n",
      "\n",
      "Excess Risk (ER): 0.22043010752688175\n",
      "=> Excess Risk (ER) indicates a positive relationship between D & E.\n",
      "\n",
      "Attributable Risk (AR): 0.05230544924366689\n",
      "=> Attributable Risk (AR) indicates a positive relationship between D & E.\n",
      "\n",
      "ChiSquared Independence Test (n=200)\n",
      "=> p-value = 0.081142034922\n",
      "=> ChiSquared Test indicates independence between D & E.\n",
      "\n"
     ]
    }
   ],
   "source": [
    "tab6pt2 = ContTable(7, 7, 52, 134, 2)"
   ]
  },
  {
   "cell_type": "code",
   "execution_count": null,
   "metadata": {
    "collapsed": true
   },
   "outputs": [],
   "source": []
  },
  {
   "cell_type": "code",
   "execution_count": null,
   "metadata": {
    "collapsed": true
   },
   "outputs": [],
   "source": []
  }
 ],
 "metadata": {
  "kernelspec": {
   "display_name": "Python 3",
   "language": "python",
   "name": "python3"
  },
  "language_info": {
   "codemirror_mode": {
    "name": "ipython",
    "version": 3
   },
   "file_extension": ".py",
   "mimetype": "text/x-python",
   "name": "python",
   "nbconvert_exporter": "python",
   "pygments_lexer": "ipython3",
   "version": "3.5.2"
  },
  "widgets": {
   "state": {},
   "version": "1.1.0"
  }
 },
 "nbformat": 4,
 "nbformat_minor": 2
}
