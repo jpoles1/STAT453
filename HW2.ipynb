{
 "cells": [
  {
   "cell_type": "code",
   "execution_count": 1,
   "metadata": {
    "collapsed": true
   },
   "outputs": [],
   "source": [
    "from IPython.display import display\n",
    "import numpy as np\n",
    "import pandas as pd\n",
    "from contingency import *\n",
    "from strata import *"
   ]
  },
  {
   "cell_type": "code",
   "execution_count": 2,
   "metadata": {
    "collapsed": false
   },
   "outputs": [
    {
     "name": "stdout",
     "output_type": "stream",
     "text": [
      "2x2 Contingency Table:\n"
     ]
    },
    {
     "data": {
      "text/html": [
       "<div>\n",
       "<table border=\"1\" class=\"dataframe\">\n",
       "  <thead>\n",
       "    <tr style=\"text-align: right;\">\n",
       "      <th></th>\n",
       "      <th>E</th>\n",
       "      <th>~E</th>\n",
       "    </tr>\n",
       "  </thead>\n",
       "  <tbody>\n",
       "    <tr>\n",
       "      <th>D</th>\n",
       "      <td>33</td>\n",
       "      <td>17</td>\n",
       "    </tr>\n",
       "    <tr>\n",
       "      <th>~D</th>\n",
       "      <td>186</td>\n",
       "      <td>411</td>\n",
       "    </tr>\n",
       "  </tbody>\n",
       "</table>\n",
       "</div>"
      ],
      "text/plain": [
       "      E   ~E\n",
       "D    33   17\n",
       "~D  186  411"
      ]
     },
     "metadata": {},
     "output_type": "display_data"
    },
    {
     "name": "stdout",
     "output_type": "stream",
     "text": [
      "Relative Risk (RR): 2.1183870967741933\n",
      "Odds Ratio (OR): 4.2893738140417454\n",
      "=> 95% CI using logOR: 1.456141\n",
      "=> => logOR Var: 0.0969359938251474\n",
      "=> => Upper Bound: 7.896081639204302\n",
      "=> => Lower Bound: 2.3301085978185374\n",
      "Excess Risk (ER): 0.3484422110552764\n",
      "Attributable Risk (AR): 0.07955301622266575\n",
      "ChiSquared Independence Test (n=647)\n",
      "=> test statistic = 25.0162526337\n",
      "=> p-value ≈ 5.68490885811e-07\n"
     ]
    }
   ],
   "source": [
    "ns = ContTable(33, 17,186,411)"
   ]
  },
  {
   "cell_type": "code",
   "execution_count": 3,
   "metadata": {
    "collapsed": false
   },
   "outputs": [
    {
     "name": "stdout",
     "output_type": "stream",
     "text": [
      "2x2 Contingency Table:\n"
     ]
    },
    {
     "data": {
      "text/html": [
       "<div>\n",
       "<table border=\"1\" class=\"dataframe\">\n",
       "  <thead>\n",
       "    <tr style=\"text-align: right;\">\n",
       "      <th></th>\n",
       "      <th>E</th>\n",
       "      <th>~E</th>\n",
       "    </tr>\n",
       "  </thead>\n",
       "  <tbody>\n",
       "    <tr>\n",
       "      <th>D</th>\n",
       "      <td>17</td>\n",
       "      <td>4</td>\n",
       "    </tr>\n",
       "    <tr>\n",
       "      <th>~D</th>\n",
       "      <td>52</td>\n",
       "      <td>113</td>\n",
       "    </tr>\n",
       "  </tbody>\n",
       "</table>\n",
       "</div>"
      ],
      "text/plain": [
       "     E   ~E\n",
       "D   17    4\n",
       "~D  52  113"
      ]
     },
     "metadata": {},
     "output_type": "display_data"
    },
    {
     "name": "stdout",
     "output_type": "stream",
     "text": [
      "Relative Risk (RR): 2.568681318681319\n",
      "Odds Ratio (OR): 9.235576923076923\n",
      "=> 95% CI using logOR: 2.223063\n",
      "=> => logOR Var: 0.33690385616465784\n",
      "=> => Upper Bound: 28.80915455404324\n",
      "=> => Lower Bound: 2.9607214242286775\n",
      "Excess Risk (ER): 0.4943722943722944\n",
      "Attributable Risk (AR): 0.1504611330698288\n",
      "ChiSquared Independence Test (n=186)\n",
      "=> test statistic = 19.5114470071\n",
      "=> p-value ≈ 9.99986366945e-06\n"
     ]
    }
   ],
   "source": [
    "ps = ContTable(17, 4, 52, 113)"
   ]
  },
  {
   "cell_type": "code",
   "execution_count": 6,
   "metadata": {
    "collapsed": false
   },
   "outputs": [
    {
     "name": "stdout",
     "output_type": "stream",
     "text": [
      "Mantel-Haenszel adj. OR: 5.210410013449416\n",
      "=> 95% CI using logOR: 1.650659\n",
      "=> => logOR Var: 0.07373585642763851\n",
      "=> => Upper Bound: 8.871766870330484\n",
      "=> => Lower Bound: 3.060086328355316\n"
     ]
    },
    {
     "data": {
      "text/plain": [
       "(5.210410013449416, 1.6506585500679178, (3.060086328355316, 8.871766870330484))"
      ]
     },
     "execution_count": 6,
     "metadata": {},
     "output_type": "execute_result"
    }
   ],
   "source": [
    "sm = Strata([ns, ps])\n",
    "sm.mantel_haenszel_correction()"
   ]
  }
 ],
 "metadata": {
  "kernelspec": {
   "display_name": "Python 3",
   "language": "python",
   "name": "python3"
  },
  "language_info": {
   "codemirror_mode": {
    "name": "ipython",
    "version": 3
   },
   "file_extension": ".py",
   "mimetype": "text/x-python",
   "name": "python",
   "nbconvert_exporter": "python",
   "pygments_lexer": "ipython3",
   "version": "3.5.2"
  },
  "widgets": {
   "state": {},
   "version": "1.1.0"
  }
 },
 "nbformat": 4,
 "nbformat_minor": 2
}
