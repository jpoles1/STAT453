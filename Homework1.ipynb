{
 "cells": [
  {
   "cell_type": "markdown",
   "metadata": {},
   "source": [
    "<center>\n",
    "<h1>Homework #1 - STAT 453</h1>\n",
    "<h3>By: Jordan Poles</h3>\n",
    "</center>"
   ]
  },
  {
   "cell_type": "code",
   "execution_count": 81,
   "metadata": {
    "collapsed": false
   },
   "outputs": [
    {
     "data": {
      "text/plain": [
       "<module 'contingency' from '/home/chronos/Development/STAT453/contingency.py'>"
      ]
     },
     "execution_count": 81,
     "metadata": {},
     "output_type": "execute_result"
    }
   ],
   "source": [
    "from IPython.display import display\n",
    "from imp import reload\n",
    "import contingency\n",
    "from contingency import ContTable\n",
    "reload(contingency)"
   ]
  },
  {
   "cell_type": "markdown",
   "metadata": {},
   "source": [
    "## Question 7.2\n",
    "\n",
    "Using the data from Table 6.7, estimate the Odds Ratio, with an associated 95%\n",
    "confidence interval, for the association between current exposure to biomass fuel and\n",
    "tuberculosis. Repeat your analysis using the small sample adjustments for an estimate and\n",
    "confidence interval for an Odds Ratio. Compare the results from the two approaches and\n",
    "comment."
   ]
  },
  {
   "cell_type": "code",
   "execution_count": 82,
   "metadata": {
    "collapsed": false
   },
   "outputs": [
    {
     "name": "stdout",
     "output_type": "stream",
     "text": [
      "2x2 Contingency Table:\n"
     ]
    },
    {
     "data": {
      "text/html": [
       "<div>\n",
       "<table border=\"1\" class=\"dataframe\">\n",
       "  <thead>\n",
       "    <tr style=\"text-align: right;\">\n",
       "      <th></th>\n",
       "      <th>E</th>\n",
       "      <th>~E</th>\n",
       "    </tr>\n",
       "  </thead>\n",
       "  <tbody>\n",
       "    <tr>\n",
       "      <th>D</th>\n",
       "      <td>50</td>\n",
       "      <td>238</td>\n",
       "    </tr>\n",
       "    <tr>\n",
       "      <th>~D</th>\n",
       "      <td>21</td>\n",
       "      <td>524</td>\n",
       "    </tr>\n",
       "  </tbody>\n",
       "</table>\n",
       "</div>"
      ],
      "text/plain": [
       "     E   ~E\n",
       "D   50  238\n",
       "~D  21  524"
      ]
     },
     "metadata": {},
     "output_type": "display_data"
    },
    {
     "name": "stdout",
     "output_type": "stream",
     "text": [
      "Relative Risk (RR): 4.505621693121693\n",
      "Odds Ratio (OR): 5.2420968387354945\n",
      "=> 95% CI using logOR: 1.656722\n",
      "=> => Upper Bound: 5.277802697128833\n",
      "=> => Lower Bound: 5.206632540778717\n",
      "Excess Risk (ER): 0.13507900101936798\n",
      "Attributable Risk (AR): 0.5479260886419434\n",
      "ChiSquared Independence Test (n=833)\n",
      "=> p-value = 3.12705417116e-11\n"
     ]
    }
   ],
   "source": [
    "biomass = ContTable(50, 238, 21, 524, 1)"
   ]
  },
  {
   "cell_type": "code",
   "execution_count": 83,
   "metadata": {
    "collapsed": false
   },
   "outputs": [
    {
     "name": "stdout",
     "output_type": "stream",
     "text": [
      "Odds Ratio (OR): 5.2420968387354945\n",
      "=> 95% CI using logOR: 1.656722\n",
      "=> => Upper Bound: 5.277802697128833\n",
      "=> => Lower Bound: 5.206632540778717\n"
     ]
    },
    {
     "data": {
      "text/plain": [
       "(5.2420968387354945,\n",
       " 1.6567215783542906,\n",
       " (1.6499333014540989, 1.6635098552544823))"
      ]
     },
     "execution_count": 83,
     "metadata": {},
     "output_type": "execute_result"
    }
   ],
   "source": [
    "biomass.odds_ratio(CI=.95, verbose=1)"
   ]
  },
  {
   "cell_type": "markdown",
   "metadata": {},
   "source": [
    "## Question 7.3\n",
    "\n",
    "Tuyns et al. (1977) carried out a case-control study of esophageal cancer in the region\n",
    "known as Ille-et-Vilaine in Brittany, France. The data set, oesoph, can be found at\n",
    "http://www.crcpress.eom/ejtroducts/downloads/ and is also examined in detail in Breslow\n",
    "and Day (1980). One risk factor of interest was daily alcohol consumption, measured in\n",
    "grams per day, given in the data set in four levels: 0 to 39, 40 to 79, 80 to 120, and >120g/day. Dichotomize this risk factor according to whether an individual’s alcohol.\n",
    "consumption is less than or greater than or equal to 80 g/day. With this binary measure of alcohol consumption, estimate the Odds Ratio with an associated 95% confidence\n",
    "interval. Also, examine the relationship between incidence of esophageal cancer and the\n",
    "dichotomized measure of alcohol consumption using the chisq test.\n",
    "\n",
    "I sourced my dataset from http://forge.scilab.org/index.php/p/rdataset/source/tree/master/csv/datasets/esoph.csv, as the original link was broken."
   ]
  },
  {
   "cell_type": "markdown",
   "metadata": {},
   "source": [
    "## Question 9.1\n"
   ]
  },
  {
   "cell_type": "markdown",
   "metadata": {},
   "source": [
    "## Question 9.2\n"
   ]
  },
  {
   "cell_type": "code",
   "execution_count": null,
   "metadata": {
    "collapsed": true
   },
   "outputs": [],
   "source": []
  }
 ],
 "metadata": {
  "kernelspec": {
   "display_name": "Python 3",
   "language": "python",
   "name": "python3"
  },
  "language_info": {
   "codemirror_mode": {
    "name": "ipython",
    "version": 3
   },
   "file_extension": ".py",
   "mimetype": "text/x-python",
   "name": "python",
   "nbconvert_exporter": "python",
   "pygments_lexer": "ipython3",
   "version": "3.5.2"
  },
  "widgets": {
   "state": {},
   "version": "1.1.0"
  }
 },
 "nbformat": 4,
 "nbformat_minor": 0
}
