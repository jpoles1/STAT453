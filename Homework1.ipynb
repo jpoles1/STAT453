{
 "cells": [
  {
   "cell_type": "markdown",
   "metadata": {},
   "source": [
    "<center>\n",
    "<h1>Homework #1 - STAT 453</h1>\n",
    "<h3>By: Jordan Poles</h3>\n",
    "</center>"
   ]
  },
  {
   "cell_type": "code",
   "execution_count": 1,
   "metadata": {
    "collapsed": false
   },
   "outputs": [],
   "source": [
    "from IPython.display import display\n",
    "import numpy as np\n",
    "import pandas as pd\n",
    "from contingency import *\n",
    "from strata import *"
   ]
  },
  {
   "cell_type": "markdown",
   "metadata": {},
   "source": [
    "## Question 7.2\n",
    "\n",
    "_Using the data from Table 6.7, estimate the Odds Ratio, with an associated 95%\n",
    "confidence interval, for the association between current exposure to biomass fuel and\n",
    "tuberculosis. Repeat your analysis using the small sample adjustments for an estimate and\n",
    "confidence interval for an Odds Ratio. Compare the results from the two approaches and\n",
    "comment._"
   ]
  },
  {
   "cell_type": "code",
   "execution_count": 2,
   "metadata": {
    "collapsed": false
   },
   "outputs": [
    {
     "name": "stdout",
     "output_type": "stream",
     "text": [
      "833 total participants in this study.\n",
      "2x2 Contingency Table:\n"
     ]
    },
    {
     "data": {
      "text/html": [
       "<div>\n",
       "<table border=\"1\" class=\"dataframe\">\n",
       "  <thead>\n",
       "    <tr style=\"text-align: right;\">\n",
       "      <th></th>\n",
       "      <th>E</th>\n",
       "      <th>~E</th>\n",
       "    </tr>\n",
       "  </thead>\n",
       "  <tbody>\n",
       "    <tr>\n",
       "      <th>D</th>\n",
       "      <td>50</td>\n",
       "      <td>238</td>\n",
       "    </tr>\n",
       "    <tr>\n",
       "      <th>~D</th>\n",
       "      <td>21</td>\n",
       "      <td>524</td>\n",
       "    </tr>\n",
       "  </tbody>\n",
       "</table>\n",
       "</div>"
      ],
      "text/plain": [
       "     E   ~E\n",
       "D   50  238\n",
       "~D  21  524"
      ]
     },
     "metadata": {},
     "output_type": "display_data"
    }
   ],
   "source": [
    "biomass = ContTable(50, 238, 21, 524, 0)\n",
    "print(biomass.num_tot, \"total participants in this study.\")\n",
    "biomass.display()"
   ]
  },
  {
   "cell_type": "code",
   "execution_count": 3,
   "metadata": {
    "collapsed": false
   },
   "outputs": [
    {
     "name": "stdout",
     "output_type": "stream",
     "text": [
      "Odds Ratio (OR): 5.2420968387354945\n",
      "=> 95% CI using logOR: 1.656722\n",
      "=> => logOR Var: 0.07372912523788142\n",
      "=> => Upper Bound: 8.925503208782592\n",
      "=> => Lower Bound: 3.078770868587116\n",
      "=> Odds Ratio (OR) indicates a positive relationship between D & E.\n",
      "\n"
     ]
    }
   ],
   "source": [
    "_ = biomass.odds_ratio(CI=.95, verbose=2)"
   ]
  },
  {
   "cell_type": "code",
   "execution_count": 4,
   "metadata": {
    "collapsed": false
   },
   "outputs": [
    {
     "name": "stdout",
     "output_type": "stream",
     "text": [
      "Small Sample Odds Ratio (ss_OR): 4.98288322556105\n",
      "=> 95% CI using ss_logOR: 1.641997\n",
      "=> => ss_logOR Var: 0.07241305791543796\n",
      "=> => Upper Bound: 8.753174602530487\n",
      "=> => Lower Bound: 3.0482772379608516\n",
      "=> Small Sample Odds Ratio (OR) indicates a positive relationship between D & E.\n",
      "\n"
     ]
    }
   ],
   "source": [
    "_ = biomass.ss_odds_ratio(CI=.95, verbose=2)"
   ]
  },
  {
   "cell_type": "code",
   "execution_count": 5,
   "metadata": {
    "collapsed": false
   },
   "outputs": [
    {
     "data": {
      "text/plain": [
       "0.25921361317444447"
      ]
     },
     "execution_count": 5,
     "metadata": {},
     "output_type": "execute_result"
    }
   ],
   "source": [
    "biomass.OR - biomass.ss_OR"
   ]
  },
  {
   "cell_type": "markdown",
   "metadata": {},
   "source": [
    "The results of the small sample adjustment for the Odds Ratio (OR) was not largely noticeable. The OR was reduced by the adjustment, by around .26, with a concomitant tiny reduction in the logOR variance of approximately .0013. Given there were 833 participants in this study, the small sample adjustment does not seem particularly necessary in this circumstance."
   ]
  },
  {
   "cell_type": "markdown",
   "metadata": {},
   "source": [
    "## Question 7.3\n",
    "\n",
    "_Tuyns et al. (1977) carried out a case-control study of esophageal cancer in the region\n",
    "known as Ille-et-Vilaine in Brittany, France. The data set, oesoph, can be found at\n",
    "http://www.crcpress.eom/ejtroducts/downloads/ and is also examined in detail in Breslow\n",
    "and Day (1980). One risk factor of interest was daily alcohol consumption, measured in\n",
    "grams per day, given in the data set in four levels: 0 to 39, 40 to 79, 80 to 120, and >120g/day. Dichotomize this risk factor according to whether an individual’s alcohol.\n",
    "consumption is less than or greater than or equal to 80 g/day. With this binary measure of alcohol consumption, estimate the Odds Ratio with an associated 95% confidence\n",
    "interval. Also, examine the relationship between incidence of esophageal cancer and the\n",
    "dichotomized measure of alcohol consumption using the chisq test._"
   ]
  },
  {
   "cell_type": "markdown",
   "metadata": {},
   "source": [
    "I sourced my dataset from http://forge.scilab.org/index.php/p/rdataset/source/tree/master/csv/datasets/esoph.csv, as the original link was broken."
   ]
  },
  {
   "cell_type": "code",
   "execution_count": 6,
   "metadata": {
    "collapsed": false
   },
   "outputs": [
    {
     "name": "stdout",
     "output_type": "stream",
     "text": [
      "2x2 Contingency Table:\n"
     ]
    },
    {
     "data": {
      "text/html": [
       "<div>\n",
       "<table border=\"1\" class=\"dataframe\">\n",
       "  <thead>\n",
       "    <tr style=\"text-align: right;\">\n",
       "      <th></th>\n",
       "      <th>E</th>\n",
       "      <th>~E</th>\n",
       "    </tr>\n",
       "  </thead>\n",
       "  <tbody>\n",
       "    <tr>\n",
       "      <th>D</th>\n",
       "      <td>96</td>\n",
       "      <td>104</td>\n",
       "    </tr>\n",
       "    <tr>\n",
       "      <th>~D</th>\n",
       "      <td>109</td>\n",
       "      <td>666</td>\n",
       "    </tr>\n",
       "  </tbody>\n",
       "</table>\n",
       "</div>"
      ],
      "text/plain": [
       "      E   ~E\n",
       "D    96  104\n",
       "~D  109  666"
      ]
     },
     "metadata": {},
     "output_type": "display_data"
    },
    {
     "name": "stdout",
     "output_type": "stream",
     "text": [
      "Odds Ratio (OR): 5.64008468596\n",
      "=> 95% CI using logOR: 1.729899\n",
      "=> => logOR Var: 0.0307078647102\n",
      "=> => Upper Bound: 7.951467464104598\n",
      "=> => Lower Bound: 4.000589250771749\n",
      "=> Odds Ratio (OR) indicates a positive relationship between D & E.\n",
      "\n",
      "ChiSquared Independence Test (n=975)\n",
      "=> test statistic = 110.255387414\n",
      "=> p-value ≈ 0.0\n",
      "=> ChiSquared Test suggests an association between D & E.\n",
      "\n"
     ]
    }
   ],
   "source": [
    "esoph = pd.read_csv(\"data/esoph.csv\")\n",
    "esoph.drop(esoph.columns[[0]], axis=1, inplace=1)\n",
    "alcbinary = esoph[\"alcgp\"].isin([\"80-119\", \"120+\"])\n",
    "exposed = esoph.loc[alcbinary, [\"ncases\", \"ncontrols\"]].sum()\n",
    "unexposed = esoph.loc[~alcbinary, [\"ncases\", \"ncontrols\"]].sum()\n",
    "#third + fourth argument adjusted to fit book data\n",
    "esoph_alc_table = ContTable(exposed[\"ncases\"], unexposed[\"ncases\"], exposed[\"ncontrols\"]-exposed[\"ncases\"], unexposed[\"ncontrols\"]-unexposed[\"ncases\"], 0)\n",
    "esoph_alc_table.display()\n",
    "esoph_alc_table.odds_ratio(verbose=2)\n",
    "_ = esoph_alc_table.chisq_indep(verbose=2)"
   ]
  },
  {
   "cell_type": "markdown",
   "metadata": {},
   "source": [
    "## Question 9.1\n",
    "\n",
    "_In Perez-Padilla et al. (2001) the authors were concerned that the\n",
    "variable, monthly family income (an indicator of economic status), might confound the\n",
    "observed association between indoor air pollution and tuberculosis. The data in Table 6.7,\n",
    "stratified by income, are shown in Table 9.13, with income information coded as “<1000\n",
    "pesos per month” and “1000 or more pesos per month.”_\n",
    "\n",
    "_Based on the income strata, (1) what is the Odds Ratio associating biomass fuel exposure,\n",
    "for the low income (<1000 pesos/month) stratum? (2) Similarly, what is the Odds Ratio\n",
    "for the high income (1000 + pesos/month) stratum? Now estimate the Odds Ratio,\n",
    "associated with biomass fuel exposure, adjusting for income, using the Mantel-Haenszel\n",
    "method._"
   ]
  },
  {
   "cell_type": "markdown",
   "metadata": {},
   "source": [
    "### Part 1\n",
    "We calculate the OR for the individual groups (wealthy and poor) using simple Contingency Tables."
   ]
  },
  {
   "cell_type": "code",
   "execution_count": null,
   "metadata": {
    "collapsed": false
   },
   "outputs": [
    {
     "name": "stdout",
     "output_type": "stream",
     "text": [
      "Odds Ratio (OR): 4.377450980392157\n",
      "=> 95% CI using logOR: 1.476467\n",
      "=> => logOR Var: 0.1265452429572053\n",
      "=> => Upper Bound: 8.790648269155707\n",
      "=> => Lower Bound: 2.1798252528168405\n"
     ]
    }
   ],
   "source": [
    "poor_exposure = ContTable(38, 102, 12, 141, 0)\n",
    "_ = poor_exposure.odds_ratio(verbose=1)"
   ]
  },
  {
   "cell_type": "code",
   "execution_count": null,
   "metadata": {
    "collapsed": false
   },
   "outputs": [],
   "source": [
    "wealthy_exposure = ContTable(12, 136, 9, 383, 0)\n",
    "_ = wealthy_exposure.odds_ratio(verbose=1)"
   ]
  },
  {
   "cell_type": "markdown",
   "metadata": {},
   "source": [
    "### Part 2\n",
    "We now turn to the Mantel-Haenszel method to correct for the effect of this confounding variable on the Odds Ratio."
   ]
  },
  {
   "cell_type": "code",
   "execution_count": null,
   "metadata": {
    "collapsed": false
   },
   "outputs": [],
   "source": [
    "biofuel_strata = Strata([poor_exposure, wealthy_exposure])\n",
    "_ = biofuel_strata.mantel_haenszel_correction()"
   ]
  },
  {
   "cell_type": "markdown",
   "metadata": {},
   "source": [
    "### Part 3 - Discussion\n",
    "\n",
    "_Based on your calculations and those reported from Question 6.4, what is your\n",
    "assessment of confounding by monthly income? Does the income variable fulfill the\n",
    "criteria required for a variable to be a confounder?\n",
    "In addition to income, the authors considered many other confounding factors: age,\n",
    "sex, urban or rural residence, smoking, crowding, level of education, and socioeconomic\n",
    "status. After controlling for all these confounders, their estimate of the adjusted Odds\n",
    "Ratio between indoor air pollution and tuberculosis was 2.2. Based on the crude and\n",
    "adjusted Odds Ratio, was the association of Question 6.4 confounded?_"
   ]
  },
  {
   "cell_type": "code",
   "execution_count": null,
   "metadata": {
    "collapsed": false
   },
   "outputs": [],
   "source": [
    "sixptfour = ContTable(50, 238, 21, 524, 0)\n",
    "sixptfour.display()\n",
    "_ = sixptfour.odds_ratio(verbose=1, CI=0)"
   ]
  },
  {
   "cell_type": "code",
   "execution_count": null,
   "metadata": {
    "collapsed": false
   },
   "outputs": [],
   "source": [
    "low_income_disease = ContTable(\n",
    "    poor_exposure.a+poor_exposure.b, \n",
    "    wealthy_exposure.a+wealthy_exposure.b,\n",
    "    poor_exposure.c+poor_exposure.d, \n",
    "    wealthy_exposure.c+wealthy_exposure.d,\n",
    "    0\n",
    ")\n",
    "_ = low_income_disease.odds_ratio()"
   ]
  },
  {
   "cell_type": "code",
   "execution_count": null,
   "metadata": {
    "collapsed": false
   },
   "outputs": [],
   "source": [
    "low_income_exposure = ContTable(\n",
    "    poor_exposure.a+poor_exposure.c, \n",
    "    wealthy_exposure.a+wealthy_exposure.c,\n",
    "    poor_exposure.b+poor_exposure.d, \n",
    "    wealthy_exposure.b+wealthy_exposure.d, \n",
    "    0\n",
    ")\n",
    "_ = low_income_exposure.odds_ratio()"
   ]
  },
  {
   "cell_type": "markdown",
   "metadata": {},
   "source": [
    "Given the above calculations it seems quite clear that income/wealth is an important confounding factor mediating the occurence of tuberculosis in populations exposed to biofuel emissions. This claim is supported by the reasoning that income is shown to mediate both biofuel polution exposure as well as tuberculosis incidence (as shown by low_income_disease/low_income_exposure). \n",
    "\n",
    "Based upon the crude OR and the OR adjusted for all other factors (5.242 - 2.2), it appears that the association found in 6.4 was also highly confounded, though further investigation of these individual confounders is neccessary to achieve more detailed understanding of the interactions. "
   ]
  },
  {
   "cell_type": "markdown",
   "metadata": {},
   "source": [
    "## Question 9.2\n",
    "\n",
    "_Refer again to the data set esoph. The data, associating the binary measure of alcohol\n",
    "consumption with esophageal cancer incidence, can be stratified into\n",
    "two age groups, 25 to 54 years old and 55 years old and above. Use the Cochran-Mantel-\n",
    "Haenszel method to examine the association between alcohol consumption and incidence\n",
    "of esophageal cancer, adjusting for this dichotomous measure of age._\n",
    "\n",
    "_Give a summary estimate of the Odds Ratio using both the Woolf and Mantel-Haenszel methods. Provide\n",
    "two 95% confidence intervals based on your summary estimates. Compare these\n",
    "confidence intervals and comment._"
   ]
  },
  {
   "cell_type": "markdown",
   "metadata": {},
   "source": [
    "### Part 1\n",
    "We construct the relevant contingency tables and perform a summary analysis."
   ]
  },
  {
   "cell_type": "code",
   "execution_count": null,
   "metadata": {
    "collapsed": false
   },
   "outputs": [],
   "source": [
    "agebinary = esoph[\"agegp\"].isin([\"55-64\", \"65-74\", \"75+\"])\n",
    "#old fok\n",
    "exposed = esoph.loc[np.logical_and(alcbinary, agebinary), [\"ncases\", \"ncontrols\"]].sum()\n",
    "unexposed = esoph.loc[np.logical_and(~alcbinary, agebinary), [\"ncases\", \"ncontrols\"]].sum()\n",
    "esoph_old = ContTable(exposed[\"ncases\"], unexposed[\"ncases\"], exposed[\"ncontrols\"]-exposed[\"ncases\"], unexposed[\"ncontrols\"]-unexposed[\"ncases\"], 0)\n",
    "#young folk\n",
    "exposed = esoph.loc[np.logical_and(alcbinary, ~agebinary), [\"ncases\", \"ncontrols\"]].sum()\n",
    "unexposed = esoph.loc[np.logical_and(~alcbinary, ~agebinary), [\"ncases\", \"ncontrols\"]].sum()\n",
    "esoph_young = ContTable(exposed[\"ncases\"], unexposed[\"ncases\"], exposed[\"ncontrols\"]-exposed[\"ncases\"], unexposed[\"ncontrols\"]-unexposed[\"ncases\"], 0)\n",
    "print(\"Elderly Patients:\")\n",
    "esoph_old.display()\n",
    "esoph_old.odds_ratio(verbose=2)\n",
    "esoph_old.chisq_indep(verbose=2)\n",
    "print(\"Young Patients:\")\n",
    "esoph_young.display()\n",
    "esoph_young.odds_ratio(verbose=2)\n",
    "esoph_young.chisq_indep(verbose=2)"
   ]
  },
  {
   "cell_type": "code",
   "execution_count": null,
   "metadata": {
    "collapsed": false
   },
   "outputs": [],
   "source": [
    "esoph_strata = Strata([esoph_young, esoph_old])\n",
    "_ = esoph_strata.cmh_test(verbose=2)"
   ]
  },
  {
   "cell_type": "markdown",
   "metadata": {},
   "source": [
    "### Part 2\n",
    "We calculate adjusted ORs using two methods and compare the results with the baseline results."
   ]
  },
  {
   "cell_type": "code",
   "execution_count": null,
   "metadata": {
    "collapsed": false
   },
   "outputs": [],
   "source": [
    "_ = esoph_strata.woolf_correction()"
   ]
  },
  {
   "cell_type": "code",
   "execution_count": null,
   "metadata": {
    "collapsed": false
   },
   "outputs": [],
   "source": [
    "_ = esoph_strata.mantel_haenszel_correction()"
   ]
  },
  {
   "cell_type": "code",
   "execution_count": null,
   "metadata": {
    "collapsed": false
   },
   "outputs": [],
   "source": [
    "print(\"Pooled Odds Ratio:\", esoph_strata.pool().odds_ratio(verbose=0)[\"OR\"])"
   ]
  },
  {
   "cell_type": "markdown",
   "metadata": {
    "collapsed": false
   },
   "source": [
    "Analysis of the stratified measures using both the Woolf and Mantel-Haenszel yields a value near to our baseline/pooled OR, with a wide 95% confidence interval which also encompases this value. This suggests that there is unlikely to be a significant effect when stratifying based upon the confounding variable of age."
   ]
  }
 ],
 "metadata": {
  "kernelspec": {
   "display_name": "Python 3",
   "language": "python",
   "name": "python3"
  },
  "language_info": {
   "codemirror_mode": {
    "name": "ipython",
    "version": 3
   },
   "file_extension": ".py",
   "mimetype": "text/x-python",
   "name": "python",
   "nbconvert_exporter": "python",
   "pygments_lexer": "ipython3",
   "version": "3.5.2"
  },
  "widgets": {
   "state": {},
   "version": "1.1.0"
  }
 },
 "nbformat": 4,
 "nbformat_minor": 0
}
